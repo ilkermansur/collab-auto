{
 "cells": [
  {
   "cell_type": "markdown",
   "metadata": {},
   "source": [
    "Python input() function is used to get input from the user. It prompts for the user input and reads a line. After reading data, it converts it into a string and returns that"
   ]
  },
  {
   "cell_type": "code",
   "execution_count": 3,
   "metadata": {},
   "outputs": [
    {
     "name": "stdout",
     "output_type": "stream",
     "text": [
      "Your ip address is  10.1.1.1\n"
     ]
    }
   ],
   "source": [
    "askValue = input ('Enter your ip address')\n",
    "print ('Your ip address is :',askValue)"
   ]
  },
  {
   "cell_type": "code",
   "execution_count": 5,
   "metadata": {},
   "outputs": [
    {
     "name": "stdout",
     "output_type": "stream",
     "text": [
      "your VlanID is : 10.1.1.1\n",
      "your VlanID is : 10.1.1.1\n",
      "your VlanID is : 10.1.1.1\n"
     ]
    }
   ],
   "source": [
    "# You can use format or f string\n",
    "\n",
    "VlanId = input ('Enter your VlanID :')\n",
    "print ('your VlanID is :', VlanId)\n",
    "print (f'your VlanID is : {VlanId}')\n",
    "print ('your VlanID is : {}'.format(VlanId))"
   ]
  }
 ],
 "metadata": {
  "kernelspec": {
   "display_name": "Python 3",
   "language": "python",
   "name": "python3"
  },
  "language_info": {
   "codemirror_mode": {
    "name": "ipython",
    "version": 3
   },
   "file_extension": ".py",
   "mimetype": "text/x-python",
   "name": "python",
   "nbconvert_exporter": "python",
   "pygments_lexer": "ipython3",
   "version": "3.11.4"
  },
  "orig_nbformat": 4
 },
 "nbformat": 4,
 "nbformat_minor": 2
}
